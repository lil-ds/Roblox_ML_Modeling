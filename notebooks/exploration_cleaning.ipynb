{
 "cells": [
  {
   "cell_type": "code",
   "execution_count": 98,
   "id": "2e861600",
   "metadata": {},
   "outputs": [],
   "source": [
    "import kagglehub\n",
    "import pandas as pd\n",
    "from sklearn.model_selection import train_test_split\n",
    "from sklearn.linear_model import LinearRegression\n",
    "from sklearn.metrics import mean_absolute_error, r2_score\n",
    "from sklearn.preprocessing import LabelEncoder\n",
    "import numpy as np\n",
    "import warnings"
   ]
  },
  {
   "cell_type": "code",
   "execution_count": 99,
   "id": "cd33c94d",
   "metadata": {},
   "outputs": [
    {
     "name": "stdout",
     "output_type": "stream",
     "text": [
      "Path to dataset files: /home/lily/.cache/kagglehub/datasets/jansenccruz/roblox-dataset/versions/1\n"
     ]
    }
   ],
   "source": [
    "path = kagglehub.dataset_download(\"jansenccruz/roblox-dataset\")\n",
    "\n",
    "print(\"Path to dataset files:\", path)"
   ]
  },
  {
   "cell_type": "code",
   "execution_count": 100,
   "id": "f3314f66",
   "metadata": {},
   "outputs": [
    {
     "data": {
      "text/html": [
       "<div>\n",
       "<style scoped>\n",
       "    .dataframe tbody tr th:only-of-type {\n",
       "        vertical-align: middle;\n",
       "    }\n",
       "\n",
       "    .dataframe tbody tr th {\n",
       "        vertical-align: top;\n",
       "    }\n",
       "\n",
       "    .dataframe thead th {\n",
       "        text-align: right;\n",
       "    }\n",
       "</style>\n",
       "<table border=\"1\" class=\"dataframe\">\n",
       "  <thead>\n",
       "    <tr style=\"text-align: right;\">\n",
       "      <th></th>\n",
       "      <th>Title</th>\n",
       "      <th>Creator</th>\n",
       "      <th>AgeRecommendation</th>\n",
       "      <th>Active</th>\n",
       "      <th>Favorites</th>\n",
       "      <th>Visits</th>\n",
       "      <th>VoiceChat</th>\n",
       "      <th>Camera</th>\n",
       "      <th>Created</th>\n",
       "      <th>Updated</th>\n",
       "      <th>ServerSize</th>\n",
       "      <th>Genre</th>\n",
       "      <th>Likes</th>\n",
       "      <th>Dislikes</th>\n",
       "      <th>GameLink</th>\n",
       "      <th>DateFetched</th>\n",
       "    </tr>\n",
       "  </thead>\n",
       "  <tbody>\n",
       "    <tr>\n",
       "      <th>0</th>\n",
       "      <td>Catalog Avatar Creator</td>\n",
       "      <td>@ItsMuneeeb</td>\n",
       "      <td>All Ages</td>\n",
       "      <td>19469</td>\n",
       "      <td>3438844</td>\n",
       "      <td>2.8B+</td>\n",
       "      <td>Supported</td>\n",
       "      <td>Supported</td>\n",
       "      <td>7/4/2021</td>\n",
       "      <td>11/5/2024</td>\n",
       "      <td>24</td>\n",
       "      <td>Shopping</td>\n",
       "      <td>1M+</td>\n",
       "      <td>124K+</td>\n",
       "      <td>https://www.roblox.com/games/7041939546/Catalo...</td>\n",
       "      <td>11/5/2024 20:24</td>\n",
       "    </tr>\n",
       "    <tr>\n",
       "      <th>1</th>\n",
       "      <td>[HALLOWEEN 🎃] The Mimic</td>\n",
       "      <td>CTStudio</td>\n",
       "      <td>Ages 13+</td>\n",
       "      <td>2709</td>\n",
       "      <td>2911356</td>\n",
       "      <td>988.3M+</td>\n",
       "      <td>Supported</td>\n",
       "      <td>Not Supported</td>\n",
       "      <td>1/15/2021</td>\n",
       "      <td>11/5/2024</td>\n",
       "      <td>45</td>\n",
       "      <td>Survival</td>\n",
       "      <td>982K+</td>\n",
       "      <td>107K+</td>\n",
       "      <td>https://www.roblox.com/games/6243699076/HALLOW...</td>\n",
       "      <td>11/5/2024 20:25</td>\n",
       "    </tr>\n",
       "    <tr>\n",
       "      <th>2</th>\n",
       "      <td>[RANKED + MORE] Frisbee Frenzy</td>\n",
       "      <td>johnny cage fan group</td>\n",
       "      <td>All Ages</td>\n",
       "      <td>148</td>\n",
       "      <td>21024</td>\n",
       "      <td>1.5M+</td>\n",
       "      <td>Supported</td>\n",
       "      <td>Not Supported</td>\n",
       "      <td>10/26/2023</td>\n",
       "      <td>11/5/2024</td>\n",
       "      <td>8</td>\n",
       "      <td>NaN</td>\n",
       "      <td>5265</td>\n",
       "      <td>1011</td>\n",
       "      <td>https://www.roblox.com/games/15170454486/RANKE...</td>\n",
       "      <td>11/5/2024 20:25</td>\n",
       "    </tr>\n",
       "  </tbody>\n",
       "</table>\n",
       "</div>"
      ],
      "text/plain": [
       "                            Title                Creator AgeRecommendation  \\\n",
       "0          Catalog Avatar Creator            @ItsMuneeeb          All Ages   \n",
       "1         [HALLOWEEN 🎃] The Mimic               CTStudio          Ages 13+   \n",
       "2  [RANKED + MORE] Frisbee Frenzy  johnny cage fan group          All Ages   \n",
       "\n",
       "   Active  Favorites   Visits  VoiceChat         Camera     Created  \\\n",
       "0   19469    3438844    2.8B+  Supported      Supported    7/4/2021   \n",
       "1    2709    2911356  988.3M+  Supported  Not Supported   1/15/2021   \n",
       "2     148      21024    1.5M+  Supported  Not Supported  10/26/2023   \n",
       "\n",
       "     Updated  ServerSize     Genre  Likes Dislikes  \\\n",
       "0  11/5/2024          24  Shopping    1M+    124K+   \n",
       "1  11/5/2024          45  Survival  982K+    107K+   \n",
       "2  11/5/2024           8       NaN   5265     1011   \n",
       "\n",
       "                                            GameLink      DateFetched  \n",
       "0  https://www.roblox.com/games/7041939546/Catalo...  11/5/2024 20:24  \n",
       "1  https://www.roblox.com/games/6243699076/HALLOW...  11/5/2024 20:25  \n",
       "2  https://www.roblox.com/games/15170454486/RANKE...  11/5/2024 20:25  "
      ]
     },
     "execution_count": 100,
     "metadata": {},
     "output_type": "execute_result"
    }
   ],
   "source": [
    "roblox = pd.read_csv('/home/lily/github/Roblox_ML_Modeling/data/raw/roblox_games_data.csv')\n",
    "roblox.head(3)"
   ]
  },
  {
   "cell_type": "code",
   "execution_count": 101,
   "id": "3b3d8102",
   "metadata": {},
   "outputs": [],
   "source": [
    "roblox.dropna(subset=['Genre'], inplace=True)\n"
   ]
  },
  {
   "cell_type": "code",
   "execution_count": 102,
   "id": "24233b70",
   "metadata": {},
   "outputs": [],
   "source": [
    "def convert_to_numeric(value):\n",
    "    if isinstance(value, str):\n",
    "        value = value.lower().replace(',', '')\n",
    "        if 'b+' in value:\n",
    "            return float(value.replace('b+', '')) * 1_000_000_000\n",
    "        elif 'm+' in value:\n",
    "            return float(value.replace('m+', '')) * 1_000_000\n",
    "        elif 'k+' in value:\n",
    "            return float(value.replace('k+', '')) * 1_000\n",
    "    try:\n",
    "        return float(value)\n",
    "    except (ValueError, TypeError):\n",
    "        return np.nan\n",
    "    \n",
    "roblox['Visits'] = roblox['Visits'].apply(convert_to_numeric)\n",
    "roblox['Likes'] = roblox['Likes'].apply(convert_to_numeric)\n",
    "roblox['Dislikes'] = roblox['Dislikes'].apply(convert_to_numeric)"
   ]
  },
  {
   "cell_type": "code",
   "execution_count": 103,
   "id": "ba3e8868",
   "metadata": {},
   "outputs": [],
   "source": [
    "roblox['like_ratio'] = roblox['Likes'] / (roblox['Likes'] + roblox['Dislikes'])\n",
    "roblox['like_ratio'] = roblox['like_ratio'].fillna(0)\n",
    "\n",
    "roblox['player_to_visit_ratio'] = roblox['Active'] / roblox['Visits']"
   ]
  },
  {
   "cell_type": "code",
   "execution_count": 108,
   "id": "6dbe0d70",
   "metadata": {},
   "outputs": [
    {
     "data": {
      "text/plain": [
       "Index(['title', 'creator', 'agerecommendation', 'active', 'favorites',\n",
       "       'visits', 'created', 'updated', 'serversize', 'likes', 'dislikes',\n",
       "       'gamelink', 'datefetched', 'like_ratio', 'player_to_visit_ratio',\n",
       "       'genre_action', 'genre_adventure', 'genre_education',\n",
       "       'genre_entertainment', 'genre_obby_&_platformer',\n",
       "       'genre_party_&_casual', 'genre_puzzle', 'genre_rpg',\n",
       "       'genre_roleplay_&_avatar_sim', 'genre_shooter', 'genre_shopping',\n",
       "       'genre_simulation', 'genre_social', 'genre_sports_&_racing',\n",
       "       'genre_strategy', 'genre_survival', 'camera_not_supported',\n",
       "       'camera_supported', 'vc_not_supported', 'vc_supported'],\n",
       "      dtype='object')"
      ]
     },
     "execution_count": 108,
     "metadata": {},
     "output_type": "execute_result"
    }
   ],
   "source": [
    "roblox_encoded = pd.get_dummies(\n",
    "    roblox,\n",
    "    columns=['Genre', 'Camera', 'VoiceChat'],  # all categorical columns\n",
    "    prefix=['genre', 'camera', 'vc'],         # prefixes for each\n",
    "    dtype=int\n",
    ")\n",
    "\n",
    "roblox_encoded.columns = [col.lower().replace(' ', '_') for col in roblox_encoded.columns]\n",
    "roblox_encoded.columns"
   ]
  },
  {
   "cell_type": "code",
   "execution_count": 109,
   "id": "e9791589",
   "metadata": {},
   "outputs": [],
   "source": [
    "roblox_encoded.to_csv('/home/lily/github/Roblox_ML_Modeling/data/processed/roblox_dataset_cleaned.csv', index=False)\n"
   ]
  }
 ],
 "metadata": {
  "kernelspec": {
   "display_name": ".venv",
   "language": "python",
   "name": "python3"
  },
  "language_info": {
   "codemirror_mode": {
    "name": "ipython",
    "version": 3
   },
   "file_extension": ".py",
   "mimetype": "text/x-python",
   "name": "python",
   "nbconvert_exporter": "python",
   "pygments_lexer": "ipython3",
   "version": "3.12.3"
  }
 },
 "nbformat": 4,
 "nbformat_minor": 5
}
